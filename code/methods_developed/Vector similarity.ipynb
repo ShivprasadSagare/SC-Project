{
 "cells": [
  {
   "cell_type": "markdown",
   "metadata": {},
   "source": [
    "# Vector Similarity"
   ]
  },
  {
   "cell_type": "markdown",
   "metadata": {},
   "source": [
    "### Importing the required libraries"
   ]
  },
  {
   "cell_type": "code",
   "execution_count": 9,
   "metadata": {},
   "outputs": [],
   "source": [
    "import io\n",
    "import numpy as np\n",
    "from google_trans_new import google_translator \n",
    "from scipy.spatial.distance import cosine\n",
    "import json \n",
    "import string\n",
    "import nltk\n",
    "from nltk.corpus import stopwords\n",
    "stop_words = set(stopwords.words('english'))\n",
    "from nltk import word_tokenize"
   ]
  },
  {
   "cell_type": "markdown",
   "metadata": {},
   "source": [
    "### Loading data from json file"
   ]
  },
  {
   "cell_type": "code",
   "execution_count": 3,
   "metadata": {},
   "outputs": [],
   "source": [
    "# Opening JSON file \n",
    "f = open('E:\\Jupyter\\SocialComputing\\myrepo\\\\actors.json',) \n",
    "  \n",
    "# returns JSON object as  \n",
    "# a dictionary \n",
    "data = json.load(f) \n",
    "  \n",
    "# Iterating through the json \n",
    "# list \n",
    "d = {}\n",
    "d = data\n",
    "  \n",
    "# Closing file \n",
    "f.close()"
   ]
  },
  {
   "cell_type": "markdown",
   "metadata": {},
   "source": [
    "### Storing sentences and triples from one article\n",
    "Here we store all the sentences and the triples from one article. The article is about the actress 'Kalpana'. We display 5 sentences and 5 triples corresponding to her here."
   ]
  },
  {
   "cell_type": "code",
   "execution_count": 5,
   "metadata": {},
   "outputs": [
    {
     "name": "stdout",
     "output_type": "stream",
     "text": [
      "5 sentences : \n",
      "\n",
      "['कल्पना प्रियदर्शनी एक भारतीय फ़िल्म अभिनेत्री थी, जो दक्षिण भारतीय फिल्मों में मुख्य रूप से मलयालम और तमिल फिल्मों में अपने काम के लिए प्रसिद्ध थी', 'उन्होंने दक्षिण भारतीय भाषाओं में ३०० से भी अधिक फिल्मों में अभिनय किया है', 'उन्होंने एक बाल कलाकार के रूप में अपना करियर शुरू किया १९७० के दशक से', '६०वें राष्ट्रीय फिल्म अवॉर्ड्स में, उन्होंने थानीचला नंजन (2012) में उनके प्रदर्शन के लिए सर्वश्रेष्ठ सहायक अभिनेत्री का पुरस्कार जीता', 'कल्पना का जन्म मंच कलाकार चवरा वी. पी. नायर और विजयलक्ष्मी के हुआ था'] \n",
      "\n",
      "5 triples : \n",
      "\n",
      "[['Kalpana', 'place of birth', 'Kerala'], ['Kalpana', 'place of death', 'Hyderabad'], ['Kalpana', 'sex or gender', 'female'], ['Kalpana', 'spouse', 'Anil Kumar'], ['Kalpana', 'country of citizenship', 'India']] \n",
      "\n"
     ]
    }
   ],
   "source": [
    "sentences = d['Q6354355']['sentences']\n",
    "triples = d['Q6354355']['triples']\n",
    "print(\"5 sentences : \\n\")\n",
    "print(sentences[:5],\"\\n\")\n",
    "print(\"5 triples : \\n\")\n",
    "print(triples[:5],\"\\n\")"
   ]
  },
  {
   "cell_type": "code",
   "execution_count": 10,
   "metadata": {},
   "outputs": [],
   "source": [
    "def load_vec(emb_path, nmax=50000):\n",
    "    vectors = []\n",
    "    word2id = {}\n",
    "    with io.open(emb_path, 'r', encoding='utf-8', newline='\\n', errors='ignore') as f:\n",
    "        next(f)\n",
    "        for i, line in enumerate(f):\n",
    "            word, vect = line.rstrip().split(' ', 1)\n",
    "            vect = np.fromstring(vect, sep=' ')\n",
    "            assert word not in word2id, 'word found twice'\n",
    "            vectors.append(vect)\n",
    "            word2id[word] = len(word2id)\n",
    "            if len(word2id) == nmax:\n",
    "                break\n",
    "    id2word = {v: k for k, v in word2id.items()}\n",
    "    embeddings = np.vstack(vectors)\n",
    "    return embeddings, id2word, word2id"
   ]
  },
  {
   "cell_type": "markdown",
   "metadata": {},
   "source": [
    "### Getting source and target embeddings from the aligned multilingual vector space"
   ]
  },
  {
   "cell_type": "code",
   "execution_count": 11,
   "metadata": {},
   "outputs": [],
   "source": [
    "src_path = \"E:\\Jupyter\\SocialComputing\\myrepo\\MUSE\\dumped\\debug\\ge4rutdeo7\\\\vectors-hi.txt\"\n",
    "tgt_path = \"E:\\Jupyter\\SocialComputing\\myrepo\\MUSE\\dumped\\debug\\ge4rutdeo7\\\\vectors-en.txt\"\n",
    "nmax = 50000  # maximum number of word embeddings to load\n",
    "\n",
    "src_embeddings, src_id2word, src_word2id = load_vec(src_path, nmax)\n",
    "tgt_embeddings, tgt_id2word, tgt_word2id = load_vec(tgt_path, nmax)"
   ]
  },
  {
   "cell_type": "code",
   "execution_count": 12,
   "metadata": {},
   "outputs": [],
   "source": [
    "def invocab(word,src_id2word):\n",
    "    word2id = {v: k for k, v in src_id2word.items()}\n",
    "    if word in word2id:\n",
    "        return True\n",
    "    else:\n",
    "        return False\n",
    "\n",
    "def get_srcembeddings(word, src_emb, src_id2word):\n",
    "    word2id = {v: k for k, v in src_id2word.items()}\n",
    "    word_emb = src_emb[word2id[word]]\n",
    "    return word_emb\n",
    "\n",
    "def get_trgembeddings(word,tgt_emb, tgt_id2word):\n",
    "    word2id = {v: k for k, v in tgt_id2word.items()}\n",
    "    word_emb = tgt_emb[word2id[word]]\n",
    "    return word_emb\n"
   ]
  },
  {
   "cell_type": "markdown",
   "metadata": {},
   "source": [
    "### Obtaining sentence and triple embeddings\n",
    "We obtain the sentence embeddings by taking each sentence, obtaining word embeddings for each word in the sentence, and averaging the word embeddings. For triple embeddings , we average the embeddings for each word in the triple."
   ]
  },
  {
   "cell_type": "code",
   "execution_count": 13,
   "metadata": {},
   "outputs": [],
   "source": [
    "sentence_embeddings = {}\n",
    "for srcsent in sentences:\n",
    "    avgsent = 0\n",
    "    sumemb = 0\n",
    "    for src_word in srcsent.split(' '):\n",
    "        src_word = src_word.translate(str.maketrans('', '', string.punctuation))\n",
    "        if invocab(src_word,src_id2word):\n",
    "            src_emb = get_srcembeddings(src_word,src_embeddings, src_id2word)\n",
    "        sumemb = sumemb + src_emb\n",
    "    avgsent = sumemb/len(srcsent)\n",
    "    sentence_embeddings[srcsent] = avgsent\n",
    "entity_embeddings = {}\n",
    "for entity in triples:\n",
    "    sument = 0\n",
    "    avgent = 0\n",
    "    pred = entity[1]\n",
    "    obj = entity[2]\n",
    "    total = pred+\" \"+obj\n",
    "    for word in word_tokenize(total):\n",
    "        if invocab(word,tgt_id2word) and word not in stop_words and len(word) > 2:\n",
    "            pred_emb = get_trgembeddings(word,tgt_embeddings, tgt_id2word)\n",
    "            sument = sument + pred_emb\n",
    "    avgent = sument/len(total)\n",
    "    entity_embeddings[tuple(entity)] = avgent"
   ]
  },
  {
   "cell_type": "markdown",
   "metadata": {},
   "source": [
    "### Obtaining similarity between sentence and triples and returning the top matches "
   ]
  },
  {
   "cell_type": "code",
   "execution_count": 14,
   "metadata": {},
   "outputs": [
    {
     "name": "stderr",
     "output_type": "stream",
     "text": [
      "C:\\Users\\dell\\anaconda3\\lib\\site-packages\\scipy\\spatial\\distance.py:714: RuntimeWarning: invalid value encountered in double_scalars\n",
      "  dist = 1.0 - uv / np.sqrt(uu * vv)\n"
     ]
    }
   ],
   "source": [
    "matches = {}\n",
    "for sent in sentence_embeddings:\n",
    "    ent_matchlist = []\n",
    "    sent_embed = sentence_embeddings[sent]\n",
    "    for ent in entity_embeddings:\n",
    "        ent_embed = entity_embeddings[ent]\n",
    "        similarity = 1 - cosine(sent_embed,ent_embed)\n",
    "        ent = list(ent)\n",
    "        if similarity > 0.5:\n",
    "            ent_matchlist.append([ent,similarity])\n",
    "    if len(ent_matchlist)>0:\n",
    "        ent_matchlist = np.asarray(ent_matchlist)\n",
    "        ent_matchlist = ent_matchlist[ent_matchlist[:,1].argsort()][::-1]\n",
    "\n",
    "        matches[sent] = ent_matchlist"
   ]
  },
  {
   "cell_type": "markdown",
   "metadata": {},
   "source": [
    "### Below we have returned the top triple matches for each hindi sentence in the article"
   ]
  },
  {
   "cell_type": "code",
   "execution_count": 17,
   "metadata": {},
   "outputs": [
    {
     "name": "stdout",
     "output_type": "stream",
     "text": [
      "कल्पना प्रियदर्शनी एक भारतीय फ़िल्म अभिनेत्री थी, जो दक्षिण भारतीय फिल्मों में मुख्य रूप से मलयालम और तमिल फिल्मों में अपने काम के लिए प्रसिद्ध थी  ================================\n",
      "\n",
      " [[list(['Kalpana', 'work period (start)', '1977-01-01T00:00:00Z'])\n",
      "  0.5562646976526775]\n",
      " [list(['Kalpana', 'occupation', 'actor']) 0.5489648255664478]\n",
      " [list(['Kalpana', 'number of children', '1']) 0.5398085957969948]\n",
      " [list(['Kalpana', 'manner of death', 'natural causes'])\n",
      "  0.5249625103999355]\n",
      " [list(['Kalpana', 'languages spoken, written or signed', 'Malayalam'])\n",
      "  0.5081523213012479]]\n",
      "\n",
      "\n",
      "उन्होंने दक्षिण भारतीय भाषाओं में ३०० से भी अधिक फिल्मों में अभिनय किया है  ================================\n",
      "\n",
      " [[list(['Kalpana', 'work period (start)', '1977-01-01T00:00:00Z'])\n",
      "  0.5728460129889632]\n",
      " [list(['Kalpana', 'languages spoken, written or signed', 'Malayalam'])\n",
      "  0.5587660164292069]\n",
      " [list(['Kalpana', 'manner of death', 'natural causes'])\n",
      "  0.5385730372651234]\n",
      " [list(['Kalpana', 'number of children', '1']) 0.5337991490152064]]\n",
      "\n",
      "\n",
      "उन्होंने एक बाल कलाकार के रूप में अपना करियर शुरू किया १९७० के दशक से  ================================\n",
      "\n",
      " [[list(['Kalpana', 'work period (start)', '1977-01-01T00:00:00Z'])\n",
      "  0.611821704312822]\n",
      " [list(['Kalpana', 'number of children', '1']) 0.5276704540197561]\n",
      " [list(['Kalpana', 'manner of death', 'natural causes'])\n",
      "  0.5191525447008568]]\n",
      "\n",
      "\n",
      "६०वें राष्ट्रीय फिल्म अवॉर्ड्स में, उन्होंने थानीचला नंजन (2012) में उनके प्रदर्शन के लिए सर्वश्रेष्ठ सहायक अभिनेत्री का पुरस्कार जीता  ================================\n",
      "\n",
      " [[list(['Kalpana', 'work period (start)', '1977-01-01T00:00:00Z'])\n",
      "  0.5321004641263304]\n",
      " [list(['Kalpana', 'occupation', 'actor']) 0.5242569494773145]]\n",
      "\n",
      "\n",
      "कल्पना का जन्म मंच कलाकार चवरा वी. पी. नायर और विजयलक्ष्मी के हुआ था  ================================\n",
      "\n",
      " [[list(['Kalpana', 'work period (start)', '1977-01-01T00:00:00Z'])\n",
      "  0.5209411691545375]\n",
      " [list(['Kalpana', 'occupation', 'actor']) 0.5126649437290685]]\n",
      "\n",
      "\n",
      "अभिनेत्री कलरणजीनी और उर्वशी उनकी बहने हैं  ================================\n",
      "\n",
      " [[list(['Kalpana', 'occupation', 'actor']) 0.5427797988382461]]\n",
      "\n",
      "\n",
      "उन्होंने १९९८ में मलयालम फिल्म निर्देशक अनिल कुमार से शादी की और २०१२ में तलाक हो गया  ================================\n",
      "\n",
      " [[list(['Kalpana', 'work period (start)', '1977-01-01T00:00:00Z'])\n",
      "  0.538893001183752]\n",
      " [list(['Kalpana', 'number of children', '1']) 0.5286804140518911]\n",
      " [list(['Kalpana', 'place of death', 'Hyderabad']) 0.5101770878306465]\n",
      " [list(['Kalpana', 'languages spoken, written or signed', 'Malayalam'])\n",
      "  0.509249906080539]\n",
      " [list(['Kalpana', 'occupation', 'actor']) 0.5049616457841414]\n",
      " [list(['Kalpana', 'date of death', '2016-01-25T00:00:00Z'])\n",
      "  0.5006487987820556]]\n",
      "\n",
      "\n",
      "कल्पना ने एक बाल कलाकार के रूप में अपना करियर शुरू किया विदर्भ मोटकुल फिल्म से  ================================\n",
      "\n",
      " [[list(['Kalpana', 'work period (start)', '1977-01-01T00:00:00Z'])\n",
      "  0.6050651436188434]\n",
      " [list(['Kalpana', 'number of children', '1']) 0.5275339042013588]\n",
      " [list(['Kalpana', 'manner of death', 'natural causes'])\n",
      "  0.5265692630680832]\n",
      " [list(['Kalpana', 'place of death', 'Hyderabad']) 0.5054021472056215]]\n",
      "\n",
      "\n",
      "उनकी और अन्य यादगार फिल्मों में शामिल हैं साथी लीलावती (१९९५) और कलाईवेडू (१९९६) थी  ================================\n",
      "\n",
      " [[list(['Kalpana', 'number of children', '1']) 0.5751100696165441]\n",
      " [list(['Kalpana', 'work period (start)', '1977-01-01T00:00:00Z'])\n",
      "  0.5591889191940981]\n",
      " [list(['Kalpana', 'manner of death', 'natural causes'])\n",
      "  0.5355844920352788]\n",
      " [list(['Kalpana', 'place of death', 'Hyderabad']) 0.519726468668828]]\n",
      "\n",
      "\n",
      "कल्पना ने फिल्म कुदुंबकोदती में एक गाना भी गाया था  ================================\n",
      "\n",
      " [[list(['Kalpana', 'number of children', '1']) 0.5123313513410664]\n",
      " [list(['Kalpana', 'languages spoken, written or signed', 'Malayalam'])\n",
      "  0.5029086572323482]]\n",
      "\n",
      "\n",
      "कल्पना ने ओपिरी फिल्म की शूटिंग के लिए हैदराबाद गई थी  ================================\n",
      "\n",
      " [[list(['Kalpana', 'work period (start)', '1977-01-01T00:00:00Z'])\n",
      "  0.5460144525653041]\n",
      " [list(['Kalpana', 'place of death', 'Hyderabad']) 0.5284658217331821]\n",
      " [list(['Kalpana', 'manner of death', 'natural causes'])\n",
      "  0.5172233862158063]\n",
      " [list(['Kalpana', 'number of children', '1']) 0.509279838822436]]\n",
      "\n",
      "\n",
      "२५ जनवरी २०१६ को, वह अपने होटल के कमरे में बेहोश पाया गई  ================================\n",
      "\n",
      " [[list(['Kalpana', 'manner of death', 'natural causes'])\n",
      "  0.5592677264254058]\n",
      " [list(['Kalpana', 'place of death', 'Hyderabad']) 0.5581488093998462]\n",
      " [list(['Kalpana', 'work period (start)', '1977-01-01T00:00:00Z'])\n",
      "  0.544205919359642]\n",
      " [list(['Kalpana', 'date of death', '2016-01-25T00:00:00Z'])\n",
      "  0.5105999734779464]]\n",
      "\n",
      "\n",
      "उन्हें तुरत हस्पताल लेजाया गया पर उनकी रस्ते में ही मृत्यु हो गई  ================================\n",
      "\n",
      " [[list(['Kalpana', 'place of death', 'Hyderabad']) 0.5792949938668099]\n",
      " [list(['Kalpana', 'manner of death', 'natural causes'])\n",
      "  0.568474638314493]\n",
      " [list(['Kalpana', 'work period (start)', '1977-01-01T00:00:00Z'])\n",
      "  0.5555614817732643]\n",
      " [list(['Kalpana', 'date of death', '2016-01-25T00:00:00Z'])\n",
      "  0.5261192525510079]]\n",
      "\n",
      "\n",
      "२०१३ सर्वश्रेष्ठ सहायक अभिनेत्री के लिए राष्ट्रीय फिल्म पुरस्कार फिल्म थानीचला नंजन के लिए  ================================\n",
      "\n",
      " [[list(['Kalpana', 'occupation', 'actor']) 0.5586349474916436]]\n",
      "\n",
      "\n",
      "२०१६ एशियानेट फिल्म पुरस्कार सर्वश्रेष्ठ सहायक अभिनेत्री के लिए फिल्म चार्ली के लिए  ================================\n",
      "\n",
      " [[list(['Kalpana', 'occupation', 'actor']) 0.5636555435960366]]\n",
      "\n",
      "\n",
      "२०१६ हेन्को फूल भारतीय फिल्म पुरस्कार सर्वश्रेष्ठ सहायक अभिनेत्री के लिए फिल्म चार्ली के लिए  ================================\n",
      "\n",
      " [[list(['Kalpana', 'occupation', 'actor']) 0.5577703013522533]]\n",
      "\n",
      "\n",
      "२०१६ उत्तर अमेरिकी फिल्म पुरस्कार सर्वश्रेष्ठ सहायक अभिनेत्री फिल्म चार्ली के लिए  ================================\n",
      "\n",
      " [[list(['Kalpana', 'occupation', 'actor']) 0.588067566292302]]\n",
      "\n",
      "\n",
      "कल्पना ने मलयालम टीवी चैनल पर कई धारावाहिक और साक्षात्कार की मेजबानी की है  ================================\n",
      "\n",
      " [[list(['Kalpana', 'number of children', '1']) 0.5157516866734961]\n",
      " [list(['Kalpana', 'work period (start)', '1977-01-01T00:00:00Z'])\n",
      "  0.5035519225169364]]\n",
      "\n",
      "\n",
      "एनी की रसोई (अमृता टीवी)  ================================\n",
      "\n",
      " [[list(['Kalpana', 'number of children', '1']) 0.5069961577133208]]\n",
      "\n",
      "\n"
     ]
    }
   ],
   "source": [
    "for i in matches:\n",
    "    if len(matches[i])>0:\n",
    "        print(i,\" ================================\\n\\n\",matches[i])\n",
    "        print(\"\\n\")        "
   ]
  },
  {
   "cell_type": "markdown",
   "metadata": {},
   "source": [
    "#### We do find quite a few of the matching triples to be relevant to the sentence. But, there are a few irrelevant matches as well.\n",
    "Upon analysis, we think the word overlap is working better than the vector similarity approach. A possible reason can be that when we simply average out the words in a sentence, and when we average out the words in the triples and then find the similarity between these two averages, some semantic information is lost. So, triples that should have been irrelevant are also found as similar. As the word overlap method is a strictly string overlap, the relevance is much stronger."
   ]
  }
 ],
 "metadata": {
  "kernelspec": {
   "display_name": "Python 3",
   "language": "python",
   "name": "python3"
  },
  "language_info": {
   "codemirror_mode": {
    "name": "ipython",
    "version": 3
   },
   "file_extension": ".py",
   "mimetype": "text/x-python",
   "name": "python",
   "nbconvert_exporter": "python",
   "pygments_lexer": "ipython3",
   "version": "3.8.3"
  }
 },
 "nbformat": 4,
 "nbformat_minor": 2
}
