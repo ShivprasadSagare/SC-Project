{
 "metadata": {
  "language_info": {
   "codemirror_mode": {
    "name": "ipython",
    "version": 3
   },
   "file_extension": ".py",
   "mimetype": "text/x-python",
   "name": "python",
   "nbconvert_exporter": "python",
   "pygments_lexer": "ipython3",
   "version": "3.8.3-final"
  },
  "orig_nbformat": 2,
  "kernelspec": {
   "name": "python3",
   "display_name": "Python 3",
   "language": "python"
  }
 },
 "nbformat": 4,
 "nbformat_minor": 2,
 "cells": [
  {
   "cell_type": "code",
   "execution_count": 152,
   "metadata": {},
   "outputs": [],
   "source": [
    "import os\n",
    "import json\n",
    "from indicnlp.tokenize import sentence_tokenize\n",
    "import string\n",
    "import re\n",
    "from tqdm import tqdm"
   ]
  },
  {
   "cell_type": "code",
   "execution_count": 162,
   "metadata": {},
   "outputs": [],
   "source": [
    "file_path = os.path.abspath(r\"D:\\College\\research\\indic_wikibot\\SC_project\\SC-Project\\data\\updatedPoliticians.json\")"
   ]
  },
  {
   "cell_type": "code",
   "execution_count": 125,
   "metadata": {},
   "outputs": [],
   "source": [
    "def preprocess_text(text):\n",
    "    text = re.sub(r'==.*==', '', text)\n",
    "    text = re.sub('\\n', '\\u0964 ', text)\n",
    "    return text"
   ]
  },
  {
   "cell_type": "code",
   "execution_count": 127,
   "metadata": {},
   "outputs": [],
   "source": [
    "def preprocess_sent(sentence):\n",
    "    return ' '.join([token for token in sentence.replace('\\u0964', '').split() if token not in string.punctuation])"
   ]
  },
  {
   "cell_type": "code",
   "execution_count": 163,
   "metadata": {},
   "outputs": [
    {
     "output_type": "stream",
     "name": "stderr",
     "text": [
      "success: 6335, fail: 2: 100%|██████████| 6337/6337 [00:12<00:00, 491.88it/s]\n"
     ]
    }
   ],
   "source": [
    "with open(file_path, 'r') as read_file:\n",
    "    success, fail = 0, 0\n",
    "    data = json.load(read_file)\n",
    "    with tqdm(list(data.keys()), desc=\"tokenizing sentences\") as pbar:\n",
    "        for key in pbar:\n",
    "            sentence_list = []\n",
    "            \n",
    "            try:\n",
    "                text = preprocess_text(data[key]['wikipedia content'])\n",
    "                success += 1\n",
    "            except:\n",
    "                fail += 1\n",
    "                del data[key]\n",
    "                continue\n",
    "            else:            \n",
    "                sentences = sentence_tokenize.sentence_split(text, 'hi')\n",
    "                for i, sentence in enumerate(sentences):\n",
    "                    sentence = preprocess_sent(sentence)\n",
    "                    if sentence:\n",
    "                        sentence_list.append(sentence)    \n",
    "                del data[key]['wikipedia content']\n",
    "                data[key]['sentences'] = sentence_list\n",
    "            finally:\n",
    "                pbar.set_description_str(\"success: %d, fail: %d\" % (success, fail))\n",
    "\n",
    "with open('final_politicians.json', 'w') as write_file:\n",
    "    json.dump(data, write_file)"
   ]
  },
  {
   "cell_type": "code",
   "execution_count": null,
   "metadata": {},
   "outputs": [],
   "source": []
  }
 ]
}